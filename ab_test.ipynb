{
 "cells": [
  {
   "cell_type": "code",
   "execution_count": 1,
   "id": "fbe1dd09-4eff-4109-b116-c2b45787a346",
   "metadata": {},
   "outputs": [],
   "source": [
    "import pandas as pd\n",
    "import numpy as np\n",
    "import pandahouse as ph\n",
    "import matplotlib.pyplot as plt\n",
    "import seaborn as sns\n",
    "import time as t\n",
    "import datetime as dt\n",
    "import random\n",
    "\n",
    "from scipy import stats"
   ]
  },
  {
   "cell_type": "code",
   "execution_count": 2,
   "id": "47343f36-2659-4db6-b15a-a690dbb2b30d",
   "metadata": {},
   "outputs": [],
   "source": [
    "palette = ['#6D9BC3', '#C0362C', '#E7DD73', '#00937F', '#7B5141',\n",
    "           '#586BA4', '#B86A84', '#587B7F', '#ABB7C1', '#505050']\n",
    "\n",
    "custom_params = {\n",
    "    \"figure.figsize\": (8, 5), # ширина и высота в дюймах\n",
    "    \"axes.titlesize\": 13, # заголовок\n",
    "    \"axes.labelsize\": 13, # оси\n",
    "    \"xtick.labelsize\": 11, # деления оси X\n",
    "    \"ytick.labelsize\": 11, # деления оси Y\n",
    "    'axes.spines.left': False, # не отображать ось Y\n",
    "    'axes.spines.right': False, # не отображать правую рамку \n",
    "    'axes.spines.top': False, # не отображать верхнюю рамку\n",
    "}\n",
    "\n",
    "sns.set_theme(style='ticks', palette=palette, rc=custom_params)\n",
    "\n",
    "pd.set_option('display.max_rows', 6) # число отображаемых строк по умолчанию (здесь head(3), и tail(3))\n",
    "pd.set_option('display.max_columns', 20) # число отображаемых столбцов по умолчанию (здесь 20)"
   ]
  },
  {
   "cell_type": "code",
   "execution_count": 3,
   "id": "02f5cd70-0dd6-4f18-a824-39067d130fc1",
   "metadata": {},
   "outputs": [],
   "source": [
    "connection = {'host': 'https://clickhouse.lab.karpov.courses',\n",
    "                      'database':'simulator_20221120',\n",
    "                      'user':'student', \n",
    "                      'password':'dpo_python_2020'\n",
    "                     }"
   ]
  },
  {
   "cell_type": "markdown",
   "id": "d6372114-7eef-4fb2-b759-c3c27b390b01",
   "metadata": {
    "tags": []
   },
   "source": [
    "## 5.2. Комментарий\n",
    "\n",
    "**Выбор метода** <br>\n",
    "Формы распределений экспериментальной и контрольной групп заметно отличаются, поэтому t-test скорее всего сработает неэффективно. Для AB-теста будет использоваться пуассоновский бутстреп (размер групп позволяет выбрать этот метод). \n",
    "\n",
    "**Нулевая гипотеза:** <br>\n",
    "Две выборки являются частью единой генеральной совокупности.\n",
    "\n",
    "**Альтернативная гипотеза:** <br>\n",
    "Выборки статистически значимо различаются. \n",
    "\n",
    "**Результат** <br>\n",
    "По результатам тестирования с помощью пуассоновского бутстрепа нулевая гипотеза отклоняется - выборки различаются статистически значимо. Контрольная группа в среднем демонстрирует лучшие результаты по CTR. Различия в средних распределяются вокруг 0,01 в форме, схожей с формой нормального распределения, и не пересекают ноль. Если опираться только на результаты теста, то следует отказаться от нового алгоритма.\n",
    "\n",
    "Но так как форма распределения экспериментальной выборки двухмодальна, можно предположить о влиянии третьей переменной (переменных) на CTR в экспериментальной группе. Чтобы избежать этого в будущем, в ходе АА-теста необходимо проводить проверку значимости не только по CTR, но и по остальным признакам. \n",
    "\n",
    "Разделим экспериментальную группу пользователей на две подгруппы - те, у которых CTR меньше или равен среднему и те, у которых CTR больше среднего. <br>\n",
    "Размер первой подгруппы - 5620, средний CTR равен примерно 0.102, что на 63% ниже, чем у контрольной группы. <br>\n",
    "Размер второй подгруппы - 4332, средний CTR равен примерно 0.360, что на 67% выше, чем у контрольной группы. <br>\n",
    "Это означает, что в зависимости от значения условной третьей переменной, с помощью нового алгоритма мы можем либо уменьшить глобальный CTR на 63%, либо увеличить на 67%, что является очень большим приростом. \n",
    "\n",
    "В конечном итоге ориентироваться только на результаты тестов было бы неправильно. Необходимо продолжить работу в данном направлении и использовать полученные данные для поиска третьего фактора (факторов), под влиянием которого в экспериментальной группе образовалось две моды. В дальнейшем при необходимости повторить AB-тест, изменив структуру экспериментальной и контрольной группы в зависимости от обнаруженного фактора."
   ]
  },
  {
   "cell_type": "markdown",
   "id": "992e5f48-a70d-49a6-9c2e-5a7bb126116d",
   "metadata": {},
   "source": [
    "## AB-Test"
   ]
  },
  {
   "cell_type": "code",
   "execution_count": 4,
   "id": "d6886831-02b5-447c-aa96-da21ece9b8f2",
   "metadata": {
    "tags": []
   },
   "outputs": [],
   "source": [
    "query = '''\n",
    "select\n",
    "    exp_group,\n",
    "    user_id,\n",
    "    sum(action='view') as views,\n",
    "    sum(action='like') as likes,\n",
    "    likes / views as ctr\n",
    "from {db}.feed_actions\n",
    "where toDate(time) between '2022-11-02' and '2022-11-08'\n",
    "and exp_group in [2,1]\n",
    "group by exp_group, user_id\n",
    "'''"
   ]
  },
  {
   "cell_type": "code",
   "execution_count": 5,
   "id": "8588d9e6-2a4c-435f-8bf4-5af958597ae4",
   "metadata": {},
   "outputs": [],
   "source": [
    "df = ph.read_clickhouse(query, connection=connection)"
   ]
  },
  {
   "cell_type": "code",
   "execution_count": 6,
   "id": "be3ba512-0883-42bc-b39a-3b47c31737c5",
   "metadata": {},
   "outputs": [],
   "source": [
    "treat_group_num = 2\n",
    "cont_group_num = 1"
   ]
  },
  {
   "cell_type": "code",
   "execution_count": 7,
   "id": "345a80d7-06f8-4e66-8944-e89e3050a250",
   "metadata": {
    "tags": []
   },
   "outputs": [],
   "source": [
    "df.loc[df['exp_group'] == treat_group_num, 'exp_group'] = 'treatment'\n",
    "group_treat = df[df['exp_group'] == 'treatment'].copy()"
   ]
  },
  {
   "cell_type": "code",
   "execution_count": 8,
   "id": "77e15a2f-6562-41fe-86a6-8e6858d44cd3",
   "metadata": {
    "tags": []
   },
   "outputs": [],
   "source": [
    "df.loc[df['exp_group'] == cont_group_num, 'exp_group'] = 'control'\n",
    "group_cont = df[df['exp_group'] == 'control'].copy()"
   ]
  },
  {
   "cell_type": "markdown",
   "id": "ee3def54-5c55-41cc-a0e8-4d606d4043d6",
   "metadata": {
    "tags": []
   },
   "source": [
    "### AB-Test"
   ]
  },
  {
   "cell_type": "code",
   "execution_count": 9,
   "id": "87de97c3-4ba4-48a4-98d3-499df7a4e95d",
   "metadata": {},
   "outputs": [
    {
     "data": {
      "text/html": [
       "<div>\n",
       "<style scoped>\n",
       "    .dataframe tbody tr th:only-of-type {\n",
       "        vertical-align: middle;\n",
       "    }\n",
       "\n",
       "    .dataframe tbody tr th {\n",
       "        vertical-align: top;\n",
       "    }\n",
       "\n",
       "    .dataframe thead th {\n",
       "        text-align: right;\n",
       "    }\n",
       "</style>\n",
       "<table border=\"1\" class=\"dataframe\">\n",
       "  <thead>\n",
       "    <tr style=\"text-align: right;\">\n",
       "      <th></th>\n",
       "      <th>exp_group</th>\n",
       "      <th>user_id</th>\n",
       "      <th>views</th>\n",
       "      <th>likes</th>\n",
       "      <th>ctr</th>\n",
       "    </tr>\n",
       "  </thead>\n",
       "  <tbody>\n",
       "    <tr>\n",
       "      <th>0</th>\n",
       "      <td>control</td>\n",
       "      <td>109963</td>\n",
       "      <td>15</td>\n",
       "      <td>3</td>\n",
       "      <td>0.200000</td>\n",
       "    </tr>\n",
       "    <tr>\n",
       "      <th>1</th>\n",
       "      <td>control</td>\n",
       "      <td>26117</td>\n",
       "      <td>141</td>\n",
       "      <td>32</td>\n",
       "      <td>0.226950</td>\n",
       "    </tr>\n",
       "    <tr>\n",
       "      <th>2</th>\n",
       "      <td>control</td>\n",
       "      <td>138232</td>\n",
       "      <td>73</td>\n",
       "      <td>18</td>\n",
       "      <td>0.246575</td>\n",
       "    </tr>\n",
       "    <tr>\n",
       "      <th>...</th>\n",
       "      <td>...</td>\n",
       "      <td>...</td>\n",
       "      <td>...</td>\n",
       "      <td>...</td>\n",
       "      <td>...</td>\n",
       "    </tr>\n",
       "    <tr>\n",
       "      <th>20028</th>\n",
       "      <td>treatment</td>\n",
       "      <td>25383</td>\n",
       "      <td>127</td>\n",
       "      <td>42</td>\n",
       "      <td>0.330709</td>\n",
       "    </tr>\n",
       "    <tr>\n",
       "      <th>20029</th>\n",
       "      <td>treatment</td>\n",
       "      <td>139020</td>\n",
       "      <td>114</td>\n",
       "      <td>24</td>\n",
       "      <td>0.210526</td>\n",
       "    </tr>\n",
       "    <tr>\n",
       "      <th>20030</th>\n",
       "      <td>treatment</td>\n",
       "      <td>17310</td>\n",
       "      <td>82</td>\n",
       "      <td>9</td>\n",
       "      <td>0.109756</td>\n",
       "    </tr>\n",
       "  </tbody>\n",
       "</table>\n",
       "<p>20031 rows × 5 columns</p>\n",
       "</div>"
      ],
      "text/plain": [
       "       exp_group  user_id  views  likes       ctr\n",
       "0        control   109963     15      3  0.200000\n",
       "1        control    26117    141     32  0.226950\n",
       "2        control   138232     73     18  0.246575\n",
       "...          ...      ...    ...    ...       ...\n",
       "20028  treatment    25383    127     42  0.330709\n",
       "20029  treatment   139020    114     24  0.210526\n",
       "20030  treatment    17310     82      9  0.109756\n",
       "\n",
       "[20031 rows x 5 columns]"
      ]
     },
     "execution_count": 9,
     "metadata": {},
     "output_type": "execute_result"
    }
   ],
   "source": [
    "df"
   ]
  },
  {
   "cell_type": "code",
   "execution_count": 10,
   "id": "81c38d97-50e4-44e3-9e48-11f331852d27",
   "metadata": {},
   "outputs": [
    {
     "data": {
      "text/html": [
       "<div>\n",
       "<style scoped>\n",
       "    .dataframe tbody tr th:only-of-type {\n",
       "        vertical-align: middle;\n",
       "    }\n",
       "\n",
       "    .dataframe tbody tr th {\n",
       "        vertical-align: top;\n",
       "    }\n",
       "\n",
       "    .dataframe thead th {\n",
       "        text-align: right;\n",
       "    }\n",
       "</style>\n",
       "<table border=\"1\" class=\"dataframe\">\n",
       "  <thead>\n",
       "    <tr style=\"text-align: right;\">\n",
       "      <th></th>\n",
       "      <th>user_id</th>\n",
       "      <th>views</th>\n",
       "      <th>likes</th>\n",
       "      <th>ctr</th>\n",
       "    </tr>\n",
       "    <tr>\n",
       "      <th>exp_group</th>\n",
       "      <th></th>\n",
       "      <th></th>\n",
       "      <th></th>\n",
       "      <th></th>\n",
       "    </tr>\n",
       "  </thead>\n",
       "  <tbody>\n",
       "    <tr>\n",
       "      <th>control</th>\n",
       "      <td>10079</td>\n",
       "      <td>10079</td>\n",
       "      <td>10079</td>\n",
       "      <td>10079</td>\n",
       "    </tr>\n",
       "    <tr>\n",
       "      <th>treatment</th>\n",
       "      <td>9952</td>\n",
       "      <td>9952</td>\n",
       "      <td>9952</td>\n",
       "      <td>9952</td>\n",
       "    </tr>\n",
       "  </tbody>\n",
       "</table>\n",
       "</div>"
      ],
      "text/plain": [
       "           user_id  views  likes    ctr\n",
       "exp_group                              \n",
       "control      10079  10079  10079  10079\n",
       "treatment     9952   9952   9952   9952"
      ]
     },
     "execution_count": 10,
     "metadata": {},
     "output_type": "execute_result"
    }
   ],
   "source": [
    "df.groupby('exp_group').count()"
   ]
  },
  {
   "cell_type": "code",
   "execution_count": 11,
   "id": "75c15b7a-5de9-49ae-a40a-85f6b9d0c61b",
   "metadata": {},
   "outputs": [],
   "source": [
    "describe_21 = pd.concat([\n",
    "    group_treat['ctr'].to_frame().describe().T.rename(index={'ctr': 'ctr_treatment'}),\n",
    "    group_cont['ctr'].to_frame().describe().T.rename(index={'ctr': 'ctr_control'})],\n",
    "    axis=0\n",
    ")"
   ]
  },
  {
   "cell_type": "code",
   "execution_count": 12,
   "id": "7ce4cc43-530c-48f2-b583-f8c49a8c36d2",
   "metadata": {},
   "outputs": [
    {
     "data": {
      "image/png": "[encoded data removed]",
      "text/plain": [
       "<Figure size 576x360 with 1 Axes>"
      ]
     },
     "metadata": {},
     "output_type": "display_data"
    }
   ],
   "source": [
    "sns.histplot(\n",
    "    data=df,\n",
    "    x=group_treat['ctr'],\n",
    "    bins=50\n",
    ");"
   ]
  },
  {
   "cell_type": "code",
   "execution_count": 13,
   "id": "4b595c2b-2f48-4c80-bb2d-8ad83b601a58",
   "metadata": {},
   "outputs": [
    {
     "data": {
      "text/html": [
       "<div>\n",
       "<style scoped>\n",
       "    .dataframe tbody tr th:only-of-type {\n",
       "        vertical-align: middle;\n",
       "    }\n",
       "\n",
       "    .dataframe tbody tr th {\n",
       "        vertical-align: top;\n",
       "    }\n",
       "\n",
       "    .dataframe thead th {\n",
       "        text-align: right;\n",
       "    }\n",
       "</style>\n",
       "<table border=\"1\" class=\"dataframe\">\n",
       "  <thead>\n",
       "    <tr style=\"text-align: right;\">\n",
       "      <th></th>\n",
       "      <th>count</th>\n",
       "      <th>mean</th>\n",
       "      <th>std</th>\n",
       "      <th>min</th>\n",
       "      <th>25%</th>\n",
       "      <th>50%</th>\n",
       "      <th>75%</th>\n",
       "      <th>max</th>\n",
       "    </tr>\n",
       "  </thead>\n",
       "  <tbody>\n",
       "    <tr>\n",
       "      <th>ctr</th>\n",
       "      <td>9952.0</td>\n",
       "      <td>0.214419</td>\n",
       "      <td>0.14418</td>\n",
       "      <td>0.0</td>\n",
       "      <td>0.095238</td>\n",
       "      <td>0.142857</td>\n",
       "      <td>0.325</td>\n",
       "      <td>0.923077</td>\n",
       "    </tr>\n",
       "  </tbody>\n",
       "</table>\n",
       "</div>"
      ],
      "text/plain": [
       "      count      mean      std  min       25%       50%    75%       max\n",
       "ctr  9952.0  0.214419  0.14418  0.0  0.095238  0.142857  0.325  0.923077"
      ]
     },
     "execution_count": 13,
     "metadata": {},
     "output_type": "execute_result"
    }
   ],
   "source": [
    "group_treat['ctr'].describe().to_frame().T"
   ]
  },
  {
   "cell_type": "code",
   "execution_count": 14,
   "id": "da604212-170e-4a9e-9229-b605d40a6dd8",
   "metadata": {},
   "outputs": [],
   "source": [
    "# Подгруппа, в которой значение CTR меньше или равно среднему\n",
    "subgroup1 = group_treat.loc[group_treat['ctr'] <= group_treat['ctr'].mean(), 'ctr']"
   ]
  },
  {
   "cell_type": "code",
   "execution_count": 15,
   "id": "5bce000b-c027-40b9-95af-4c8a5573eba2",
   "metadata": {},
   "outputs": [
    {
     "data": {
      "text/plain": [
       "5620"
      ]
     },
     "execution_count": 15,
     "metadata": {},
     "output_type": "execute_result"
    }
   ],
   "source": [
    "# Число элементов, у которых значение CTR меньше или равно среднему\n",
    "subgroup1.count()"
   ]
  },
  {
   "cell_type": "code",
   "execution_count": 16,
   "id": "15177713-494c-44ca-bb12-13c3ca886abd",
   "metadata": {},
   "outputs": [
    {
     "data": {
      "text/plain": [
       "0.10212540693620031"
      ]
     },
     "execution_count": 16,
     "metadata": {},
     "output_type": "execute_result"
    }
   ],
   "source": [
    "# Среднее значение CTR в этой подгруппе\n",
    "subgroup1.mean()"
   ]
  },
  {
   "cell_type": "code",
   "execution_count": 17,
   "id": "5495f5ad-081e-4964-b1eb-945ae23781aa",
   "metadata": {},
   "outputs": [
    {
     "data": {
      "text/plain": [
       "0.47366989242313023"
      ]
     },
     "execution_count": 17,
     "metadata": {},
     "output_type": "execute_result"
    }
   ],
   "source": [
    "# Отношение среднего значения CTR этой подгруппы и среднего значения CTR контрольной группы\n",
    "subgroup1.mean() / group_cont['ctr'].mean()"
   ]
  },
  {
   "cell_type": "code",
   "execution_count": 18,
   "id": "d9e2b777-cd65-4c15-a3d9-30578e43fef9",
   "metadata": {},
   "outputs": [],
   "source": [
    "# Подгруппа, в которой значение CTR больше среднего\n",
    "subgroup2 = group_treat.loc[group_treat['ctr'] > group_treat['ctr'].mean(), 'ctr']"
   ]
  },
  {
   "cell_type": "code",
   "execution_count": 19,
   "id": "551ee931-657a-4141-8df5-5d1bc7107342",
   "metadata": {},
   "outputs": [
    {
     "data": {
      "text/plain": [
       "4332"
      ]
     },
     "execution_count": 19,
     "metadata": {},
     "output_type": "execute_result"
    }
   ],
   "source": [
    "# Число элементов, у которых значение CTR больше среднего\n",
    "subgroup2.count()"
   ]
  },
  {
   "cell_type": "code",
   "execution_count": 20,
   "id": "ddc35a23-ac8f-47fd-8fb4-2bc3b88e3117",
   "metadata": {},
   "outputs": [
    {
     "data": {
      "text/plain": [
       "0.3601006054108268"
      ]
     },
     "execution_count": 20,
     "metadata": {},
     "output_type": "execute_result"
    }
   ],
   "source": [
    "# Среднее значение CTR в этой подгруппе\n",
    "subgroup2.mean()"
   ]
  },
  {
   "cell_type": "code",
   "execution_count": 21,
   "id": "61d62da8-ee4b-4eab-ba96-ac0c84138cbc",
   "metadata": {},
   "outputs": [
    {
     "data": {
      "text/plain": [
       "1.6701898199828762"
      ]
     },
     "execution_count": 21,
     "metadata": {},
     "output_type": "execute_result"
    }
   ],
   "source": [
    "# Отношение среднего значения CTR этой подгруппы и среднего значения CTR контрольной группы\n",
    "subgroup2.mean() / group_cont['ctr'].mean()"
   ]
  },
  {
   "cell_type": "code",
   "execution_count": 22,
   "id": "31bf795d-36e9-49d6-b142-2716f4ff71cc",
   "metadata": {},
   "outputs": [
    {
     "data": {
      "image/png": "[encoded data removed]",
      "text/plain": [
       "<Figure size 1080x720 with 2 Axes>"
      ]
     },
     "metadata": {},
     "output_type": "display_data"
    }
   ],
   "source": [
    "fig, axs = plt.subplots(1, 2, figsize=(15, 10))\n",
    "\n",
    "plt.subplot(2,2,1)\n",
    "ax1 = sns.histplot(subgroup1, bins=10)\n",
    "ax1.set_title('Subgroup 1', fontsize=15)\n",
    "ax1.set_xlim([0,1])\n",
    "\n",
    "plt.subplot(2,2,2)\n",
    "ax2 = sns.histplot(subgroup2, bins=30)\n",
    "ax2.set_title('Subgroup 2', fontsize=15)\n",
    "ax2.set_xlim([0,1])\n",
    "\n",
    "plt.show()"
   ]
  },
  {
   "cell_type": "code",
   "execution_count": 23,
   "id": "aabefbdf-6bf1-4a54-b532-07c7e23d1843",
   "metadata": {},
   "outputs": [
    {
     "data": {
      "image/png": "[encoded data removed]",
      "text/plain": [
       "<Figure size 576x360 with 1 Axes>"
      ]
     },
     "metadata": {},
     "output_type": "display_data"
    }
   ],
   "source": [
    "sns.histplot(\n",
    "    data=df,\n",
    "    x=group_cont['ctr'],\n",
    "    bins=50\n",
    ");"
   ]
  },
  {
   "cell_type": "code",
   "execution_count": 24,
   "id": "5a2994fd-215e-4a00-9323-b957c8f54a67",
   "metadata": {},
   "outputs": [
    {
     "data": {
      "text/html": [
       "<div>\n",
       "<style scoped>\n",
       "    .dataframe tbody tr th:only-of-type {\n",
       "        vertical-align: middle;\n",
       "    }\n",
       "\n",
       "    .dataframe tbody tr th {\n",
       "        vertical-align: top;\n",
       "    }\n",
       "\n",
       "    .dataframe thead th {\n",
       "        text-align: right;\n",
       "    }\n",
       "</style>\n",
       "<table border=\"1\" class=\"dataframe\">\n",
       "  <thead>\n",
       "    <tr style=\"text-align: right;\">\n",
       "      <th></th>\n",
       "      <th>count</th>\n",
       "      <th>mean</th>\n",
       "      <th>std</th>\n",
       "      <th>min</th>\n",
       "      <th>25%</th>\n",
       "      <th>50%</th>\n",
       "      <th>75%</th>\n",
       "      <th>max</th>\n",
       "    </tr>\n",
       "  </thead>\n",
       "  <tbody>\n",
       "    <tr>\n",
       "      <th>ctr</th>\n",
       "      <td>10079.0</td>\n",
       "      <td>0.215605</td>\n",
       "      <td>0.08416</td>\n",
       "      <td>0.0</td>\n",
       "      <td>0.160097</td>\n",
       "      <td>0.203125</td>\n",
       "      <td>0.257654</td>\n",
       "      <td>0.722222</td>\n",
       "    </tr>\n",
       "  </tbody>\n",
       "</table>\n",
       "</div>"
      ],
      "text/plain": [
       "       count      mean      std  min       25%       50%       75%       max\n",
       "ctr  10079.0  0.215605  0.08416  0.0  0.160097  0.203125  0.257654  0.722222"
      ]
     },
     "execution_count": 24,
     "metadata": {},
     "output_type": "execute_result"
    }
   ],
   "source": [
    "group_cont['ctr'].describe().to_frame().T"
   ]
  },
  {
   "cell_type": "code",
   "execution_count": 25,
   "id": "ff67540f-e71f-41fc-a3ca-67166bc36d92",
   "metadata": {},
   "outputs": [
    {
     "data": {
      "image/png": "[encoded data removed]",
      "text/plain": [
       "<Figure size 576x360 with 1 Axes>"
      ]
     },
     "metadata": {},
     "output_type": "display_data"
    }
   ],
   "source": [
    "sns.histplot(\n",
    "    data=df,\n",
    "    x=df['ctr'],\n",
    "    hue=df['exp_group'],\n",
    "    bins=50,\n",
    "    palette=palette[:2]\n",
    ");"
   ]
  },
  {
   "cell_type": "code",
   "execution_count": 26,
   "id": "53bf76bb-f5a0-4972-abb9-95054797a80c",
   "metadata": {},
   "outputs": [
    {
     "data": {
      "text/html": [
       "<div>\n",
       "<style scoped>\n",
       "    .dataframe tbody tr th:only-of-type {\n",
       "        vertical-align: middle;\n",
       "    }\n",
       "\n",
       "    .dataframe tbody tr th {\n",
       "        vertical-align: top;\n",
       "    }\n",
       "\n",
       "    .dataframe thead th {\n",
       "        text-align: right;\n",
       "    }\n",
       "</style>\n",
       "<table border=\"1\" class=\"dataframe\">\n",
       "  <thead>\n",
       "    <tr style=\"text-align: right;\">\n",
       "      <th></th>\n",
       "      <th>count</th>\n",
       "      <th>mean</th>\n",
       "      <th>std</th>\n",
       "      <th>min</th>\n",
       "      <th>25%</th>\n",
       "      <th>50%</th>\n",
       "      <th>75%</th>\n",
       "      <th>max</th>\n",
       "    </tr>\n",
       "  </thead>\n",
       "  <tbody>\n",
       "    <tr>\n",
       "      <th>ctr_treatment</th>\n",
       "      <td>9952.0</td>\n",
       "      <td>0.214419</td>\n",
       "      <td>0.14418</td>\n",
       "      <td>0.0</td>\n",
       "      <td>0.095238</td>\n",
       "      <td>0.142857</td>\n",
       "      <td>0.325000</td>\n",
       "      <td>0.923077</td>\n",
       "    </tr>\n",
       "    <tr>\n",
       "      <th>ctr_control</th>\n",
       "      <td>10079.0</td>\n",
       "      <td>0.215605</td>\n",
       "      <td>0.08416</td>\n",
       "      <td>0.0</td>\n",
       "      <td>0.160097</td>\n",
       "      <td>0.203125</td>\n",
       "      <td>0.257654</td>\n",
       "      <td>0.722222</td>\n",
       "    </tr>\n",
       "  </tbody>\n",
       "</table>\n",
       "</div>"
      ],
      "text/plain": [
       "                 count      mean      std  min       25%       50%       75%  \\\n",
       "ctr_treatment   9952.0  0.214419  0.14418  0.0  0.095238  0.142857  0.325000   \n",
       "ctr_control    10079.0  0.215605  0.08416  0.0  0.160097  0.203125  0.257654   \n",
       "\n",
       "                    max  \n",
       "ctr_treatment  0.923077  \n",
       "ctr_control    0.722222  "
      ]
     },
     "execution_count": 26,
     "metadata": {},
     "output_type": "execute_result"
    }
   ],
   "source": [
    "describe_21"
   ]
  },
  {
   "cell_type": "markdown",
   "id": "4c792184-6ce9-4fe9-ac87-14b7072efd66",
   "metadata": {},
   "source": [
    "### Poisson bootstrap\n",
    "\n"
   ]
  },
  {
   "cell_type": "code",
   "execution_count": 27,
   "id": "d334da41-a1d6-40ba-8e77-a543a5a04e14",
   "metadata": {},
   "outputs": [],
   "source": [
    "def poisson_bootstrap(likes1, views1, likes2, views2, n_bootstrap=10000):\n",
    "\n",
    "    poisson_bootstraps1 = stats.poisson(1).rvs(\n",
    "        (n_bootstrap, len(likes1))).astype(np.int64)\n",
    "\n",
    "    poisson_bootstraps2 = stats.poisson(1).rvs(\n",
    "            (n_bootstrap, len(likes2))).astype(np.int64)\n",
    "    \n",
    "    global_ctr1 = (poisson_bootstraps1*likes1).sum(axis=1)/\\\n",
    "                    (poisson_bootstraps1*views1).sum(axis=1)\n",
    "    \n",
    "    global_ctr2 = (poisson_bootstraps2*likes2).sum(axis=1)/\\\n",
    "                    (poisson_bootstraps2*views2).sum(axis=1)\n",
    "\n",
    "    return global_ctr1, global_ctr2"
   ]
  },
  {
   "cell_type": "code",
   "execution_count": 28,
   "id": "d8d30a05-afde-4e4f-80b7-30a796f35b43",
   "metadata": {},
   "outputs": [],
   "source": [
    "likes_cont = group_cont['likes'].to_numpy()\n",
    "views_cont = group_cont['views'].to_numpy()\n",
    "likes_treat = group_treat['likes'].to_numpy()\n",
    "views_treat = group_treat['views'].to_numpy()"
   ]
  },
  {
   "cell_type": "code",
   "execution_count": 29,
   "id": "d6a29bf4-30e6-46a2-bafe-2d4fcee73add",
   "metadata": {},
   "outputs": [
    {
     "name": "stdout",
     "output_type": "stream",
     "text": [
      "Execution time: 0:00:23 \n",
      "\n"
     ]
    }
   ],
   "source": [
    "t_start = t.time()\n",
    "\n",
    "ctr_treat, ctr_cont = poisson_bootstrap(\n",
    "    likes_treat, views_treat, \n",
    "    likes_cont, views_cont\n",
    ")\n",
    "\n",
    "print('Execution time: {}'.format(str(dt.timedelta(seconds=np.round(t.time() - t_start)))), '\\n')"
   ]
  },
  {
   "cell_type": "code",
   "execution_count": 30,
   "id": "b47c9d72-4ff9-4341-8ca2-6d15683ea766",
   "metadata": {},
   "outputs": [
    {
     "data": {
      "text/plain": [
       "0.1980579280931707"
      ]
     },
     "execution_count": 30,
     "metadata": {},
     "output_type": "execute_result"
    }
   ],
   "source": [
    "ctr_treat.mean()"
   ]
  },
  {
   "cell_type": "code",
   "execution_count": 31,
   "id": "28d480ee-468a-4378-8a2f-fef5d88ab86f",
   "metadata": {},
   "outputs": [
    {
     "data": {
      "text/plain": [
       "0.20803094707407768"
      ]
     },
     "execution_count": 31,
     "metadata": {},
     "output_type": "execute_result"
    }
   ],
   "source": [
    "ctr_cont.mean()"
   ]
  },
  {
   "cell_type": "code",
   "execution_count": 32,
   "id": "1b69e232-ea3a-46d2-8529-e72e576d28d6",
   "metadata": {},
   "outputs": [],
   "source": [
    "ctr_diff = ctr_treat - ctr_cont"
   ]
  },
  {
   "cell_type": "code",
   "execution_count": 33,
   "id": "aff1310a-7382-40b6-b051-23bd011bc9a9",
   "metadata": {},
   "outputs": [
    {
     "data": {
      "image/png": "[encoded data removed]",
      "text/plain": [
       "<Figure size 1080x720 with 2 Axes>"
      ]
     },
     "metadata": {},
     "output_type": "display_data"
    }
   ],
   "source": [
    "fig, axs = plt.subplots(1, 2, figsize=(15, 10))\n",
    "\n",
    "plt.subplot(2,2,1)\n",
    "ax1 = sns.histplot(ctr_treat, bins=50)\n",
    "ax1.set_title('Treatment', fontsize=15)\n",
    "\n",
    "plt.subplot(2,2,2)\n",
    "ax2 = sns.histplot(ctr_cont, bins=50)\n",
    "ax2.set_title('Control', fontsize=15)\n",
    "\n",
    "plt.show()"
   ]
  },
  {
   "cell_type": "code",
   "execution_count": 34,
   "id": "eb34d481-a990-4bf7-a0d1-94bf8821828f",
   "metadata": {},
   "outputs": [
    {
     "data": {
      "image/png": "[encoded data removed]",
      "text/plain": [
       "<Figure size 576x360 with 1 Axes>"
      ]
     },
     "metadata": {},
     "output_type": "display_data"
    }
   ],
   "source": [
    "ctr_diff_hist = sns.histplot(ctr_diff, bins=50, color=palette[1])\n",
    "ctr_diff_hist.set_title('Difference', fontsize=15);"
   ]
  },
  {
   "cell_type": "code",
   "execution_count": 35,
   "id": "58475791-80e9-4494-8e36-fbcc41330f18",
   "metadata": {},
   "outputs": [
    {
     "data": {
      "text/plain": [
       "-0.003583611538591741"
      ]
     },
     "execution_count": 35,
     "metadata": {},
     "output_type": "execute_result"
    }
   ],
   "source": [
    "ctr_diff.max()"
   ]
  }
 ],
 "metadata": {
  "kernelspec": {
   "display_name": "Python 3 (ipykernel)",
   "language": "python",
   "name": "python3"
  },
  "language_info": {
   "codemirror_mode": {
    "name": "ipython",
    "version": 3
   },
   "file_extension": ".py",
   "mimetype": "text/x-python",
   "name": "python",
   "nbconvert_exporter": "python",
   "pygments_lexer": "ipython3",
   "version": "3.10.8"
  }
 },
 "nbformat": 4,
 "nbformat_minor": 5
}
